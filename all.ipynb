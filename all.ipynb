{
 "cells": [
  {
   "cell_type": "markdown",
   "metadata": {},
   "source": [
    "## Project Parameters"
   ]
  },
  {
   "cell_type": "code",
   "execution_count": 1,
   "metadata": {},
   "outputs": [
    {
     "data": {
      "text/plain": [
       "('k9mail-5.304',\n",
       " 'Datasets/k9mail/',\n",
       " 'k9mail-5.304/k9mail/src/main/java/',\n",
       " 'k9mail-5.304.json')"
      ]
     },
     "execution_count": 1,
     "metadata": {},
     "output_type": "execute_result"
    }
   ],
   "source": [
    "project_name = \"k9mail-5.304\"\n",
    "project_root = \"Datasets/k9mail/\"\n",
    "src_path = \"k9mail-5.304/k9mail/src/main/java/\"\n",
    "graph_path = \"k9mail-5.304.json\"\n",
    "\n",
    "(project_name,project_root,src_path,graph_path)"
   ]
  },
  {
   "cell_type": "markdown",
   "metadata": {},
   "source": [
    "## Imports"
   ]
  },
  {
   "cell_type": "code",
   "execution_count": 2,
   "metadata": {},
   "outputs": [],
   "source": [
    "import random\n",
    "import json"
   ]
  },
  {
   "cell_type": "markdown",
   "metadata": {},
   "source": [
    "## Relationship Operations"
   ]
  },
  {
   "cell_type": "code",
   "execution_count": 3,
   "metadata": {},
   "outputs": [
    {
     "name": "stdout",
     "output_type": "stream",
     "text": [
      "{(3, 'c'), (1, 'a'), (2, 'b'), (3, 'd'), (2, 'c')}\n"
     ]
    }
   ],
   "source": [
    "def transitive_closure(tuples1, tuples2):\n",
    "    result = set()\n",
    "\n",
    "    # Create a dictionary to store intermediate values\n",
    "    intermediate_dict = {}\n",
    "\n",
    "    # Populate the intermediate dictionary with values from list2\n",
    "    for b1, c1 in tuples2:\n",
    "        if b1 not in intermediate_dict:\n",
    "            intermediate_dict[b1] = [c1]\n",
    "        else:\n",
    "            intermediate_dict[b1].append(c1)\n",
    "\n",
    "    # Iterate through list1 and find transitive pairs\n",
    "    for a, b in tuples1:\n",
    "        if b in intermediate_dict:\n",
    "            for c in intermediate_dict[b]:\n",
    "                result.add((a, c))\n",
    "\n",
    "    return result\n",
    "\n",
    "# Example usage:\n",
    "t1 = [(1, 2), (2, 3), (3, 4)]\n",
    "t2 = [(2, 'a'), (3, 'b'), (4, 'c'), (4, 'd'), (3, 'c')]\n",
    "\n",
    "result = transitive_closure(t1, t2)\n",
    "print(result)\n"
   ]
  },
  {
   "cell_type": "code",
   "execution_count": 4,
   "metadata": {},
   "outputs": [
    {
     "name": "stdout",
     "output_type": "stream",
     "text": [
      "{('b', 'a'), (2, 1), (4, 3)}\n"
     ]
    }
   ],
   "source": [
    "def flip_tuples(tuples):\n",
    "    return {(b, a) for a, b in tuples}\n",
    "\n",
    "# Example usage:\n",
    "t = [(1, 2), (3, 4), ('a', 'b')]\n",
    "flipped = flip_tuples(t)\n",
    "\n",
    "print(flipped)\n"
   ]
  },
  {
   "cell_type": "markdown",
   "metadata": {},
   "source": [
    "## Load javapers output\n",
    "\n",
    "This is the \"detailed\" graph, i.e., it contains packages, classes, methods, variables. This is a labeled property graph, so a node has id, label, and properties, while an edge has source, target, type, and properties. In both, a property is an arbitrary key-value pair."
   ]
  },
  {
   "cell_type": "code",
   "execution_count": 5,
   "metadata": {},
   "outputs": [
    {
     "data": {
      "text/plain": [
       "({'data': {'id': 'com.fsck.k9.activity.compose.RecipientLoader.PROJECTION_CRYPTO_ADDRESSES',\n",
       "   'properties': {'sourceText': 'private static final java.lang.String[] PROJECTION_CRYPTO_ADDRESSES = new java.lang.String[]{ \"address\", \"uid_address\" };',\n",
       "    'visibility': 'private',\n",
       "    'simpleName': 'PROJECTION_CRYPTO_ADDRESSES',\n",
       "    'kind': 'field',\n",
       "    'metaSrc': 'source code'},\n",
       "   'labels': ['Variable']}},\n",
       " {'data': {'id': 'ac7cba3e978bef0c69a74a9b1b4a1e08',\n",
       "   'source': 'com.fsck.k9.notification.NotificationController.getAccountName(com.fsck.k9.Account).account',\n",
       "   'label': 'type',\n",
       "   'properties': {'weight': 1, 'metaSrc': 'source code'},\n",
       "   'target': 'com.fsck.k9.Account'}})"
      ]
     },
     "execution_count": 5,
     "metadata": {},
     "output_type": "execute_result"
    }
   ],
   "source": [
    "with open(project_root+graph_path, encoding=\"utf8\") as json_file:\n",
    "    data = json.load(json_file)\n",
    "\n",
    "# samples: first node and first edge in the dataset, just for illustration of how they look like\n",
    "data['elements']['nodes'][0], data['elements']['edges'][0]"
   ]
  },
  {
   "cell_type": "markdown",
   "metadata": {},
   "source": [
    "Put the data in dictionaries with simpler structure for the sake of further processing.\n",
    "\n",
    "The nodes are now represented as a dictionary where the key is a tuple of (node_id, node_label) and the value is the node properties.\n",
    "\n",
    "Similarly, the edges are now represented as a dictionary where the key is a tuple of (source, target, edge_type) and the value is the edge properties."
   ]
  },
  {
   "cell_type": "code",
   "execution_count": 6,
   "metadata": {},
   "outputs": [
    {
     "data": {
      "text/plain": [
       "((13432, 28061),\n",
       " [(('com.fsck.k9.notification.CertificateErrorNotifications.com.fsck.k9.notification.CertificateErrorNotifications(com.fsck.k9.notification.NotificationController).controller',\n",
       "    'Variable'),\n",
       "   {'simpleName': 'controller',\n",
       "    'kind': 'parameter',\n",
       "    'metaSrc': 'source code'}),\n",
       "  (('com.fsck.k9.activity.compose.RecipientPresenter.onToFocused()',\n",
       "    'Operation'),\n",
       "   {'sourceText': 'void onToFocused() {\\r\\n    lastFocusedType = com.fsck.k9.mail.Message.RecipientType.TO;\\r\\n}',\n",
       "    'docComment': '',\n",
       "    'visibility': 'default',\n",
       "    'simpleName': 'onToFocused()',\n",
       "    'kind': 'method',\n",
       "    'metaSrc': 'source code'}),\n",
       "  (('com.fsck.k9.activity.MessageCompose.INVALID_DRAFT_ID', 'Variable'),\n",
       "   {'sourceText': 'private static final long INVALID_DRAFT_ID = com.fsck.k9.controller.MessagingController.INVALID_MESSAGE_ID;',\n",
       "    'visibility': 'private',\n",
       "    'simpleName': 'INVALID_DRAFT_ID',\n",
       "    'kind': 'field',\n",
       "    'metaSrc': 'source code'}),\n",
       "  (('com.fsck.k9.provider.EmailProvider.com.fsck.k9.provider.EmailProvider()',\n",
       "    'Constructor'),\n",
       "   {'sourceText': 'EmailProvider() {\\r\\n}',\n",
       "    'docComment': '',\n",
       "    'visibility': 'public',\n",
       "    'simpleName': 'com.fsck.k9.provider.EmailProvider()',\n",
       "    'kind': 'ctor',\n",
       "    'metaSrc': 'source code'}),\n",
       "  (('com.fsck.k9.activity.misc.ContactPictureLoader.calcUnknownContactLetter(com.fsck.k9.mail.Address).address',\n",
       "    'Variable'),\n",
       "   {'simpleName': 'address', 'kind': 'parameter', 'metaSrc': 'source code'})],\n",
       " [(('com.fsck.k9.controller.MessagingListener.synchronizeMailboxFinished(com.fsck.k9.Account,java.lang.String,int,int).totalMessagesInMailbox',\n",
       "    'int',\n",
       "    'type'),\n",
       "   {'weight': 1, 'metaSrc': 'source code'}),\n",
       "  (('com.fsck.k9.activity.setup.AccountSetupNames',\n",
       "    'com.fsck.k9.activity.setup.AccountSetupNames.com.fsck.k9.activity.setup.AccountSetupNames()',\n",
       "    'hasScript'),\n",
       "   {'weight': 1, 'metaSrc': 'source code'}),\n",
       "  (('com.fsck.k9.message.MessageBuilder',\n",
       "    'com.fsck.k9.message.MessageBuilder.setTo(java.util.List)',\n",
       "    'hasScript'),\n",
       "   {'weight': 1, 'metaSrc': 'source code'}),\n",
       "  (('com.fsck.k9.view.NonLockingScrollView',\n",
       "    'com.fsck.k9.view.NonLockingScrollView.sHitFrame',\n",
       "    'hasVariable'),\n",
       "   {'weight': 1, 'metaSrc': 'source code'}),\n",
       "  (('com.fsck.k9.message.html.HtmlConverter.wrapMessageContent(java.lang.CharSequence)',\n",
       "    'com.fsck.k9.message.html.HtmlConverter.cssStylePre()',\n",
       "    'invokes'),\n",
       "   {'weight': 1, 'metaSrc': 'source code'})])"
      ]
     },
     "execution_count": 6,
     "metadata": {},
     "output_type": "execute_result"
    }
   ],
   "source": [
    "nodes = {(node['data']['id'],node['data']['labels'][0]):node['data']['properties'] for node in data['elements']['nodes']}\n",
    "edges = {(edge['data']['source'],edge['data']['target'],edge['data']['label']):edge['data']['properties'] for edge in data['elements']['edges']}\n",
    "\n",
    "(len(nodes), len(edges)), random.sample(nodes.items(), 5), random.sample(edges.items(), 5)"
   ]
  },
  {
   "cell_type": "markdown",
   "metadata": {},
   "source": [
    "Now I'm going to convert the data (yet again) into \"relationships\". A relationship R is a set of tuples (A,B) in which A and B are nodes in the graph, and there is an edge of type R from A to B.\n",
    "\n",
    "First let's see what relationships are there:"
   ]
  },
  {
   "cell_type": "code",
   "execution_count": 7,
   "metadata": {},
   "outputs": [
    {
     "data": {
      "text/plain": [
       "{'contains',\n",
       " 'hasParameter',\n",
       " 'hasScript',\n",
       " 'hasVariable',\n",
       " 'instantiates',\n",
       " 'invokes',\n",
       " 'returnType',\n",
       " 'specializes',\n",
       " 'type'}"
      ]
     },
     "execution_count": 7,
     "metadata": {},
     "output_type": "execute_result"
    }
   ],
   "source": [
    "rel_types = {typ for (_, _, typ) in edges}\n",
    "rel_types"
   ]
  },
  {
   "cell_type": "markdown",
   "metadata": {},
   "source": [
    "This is the real conversion:"
   ]
  },
  {
   "cell_type": "code",
   "execution_count": 8,
   "metadata": {},
   "outputs": [
    {
     "data": {
      "text/plain": [
       "[('contains', 925),\n",
       " ('type', 5238),\n",
       " ('hasParameter', 5132),\n",
       " ('hasVariable', 2984),\n",
       " ('specializes', 159),\n",
       " ('invokes', 6266),\n",
       " ('returnType', 1983),\n",
       " ('instantiates', 721),\n",
       " ('hasScript', 4653)]"
      ]
     },
     "execution_count": 8,
     "metadata": {},
     "output_type": "execute_result"
    }
   ],
   "source": [
    "detailed_rels = {rel_type:{(source,target) for (source, target, typ) in edges if typ == rel_type} for rel_type in rel_types}\n",
    "\n",
    "[(rel_type, len(detailed_rels[rel_type])) for rel_type in detailed_rels]"
   ]
  },
  {
   "cell_type": "markdown",
   "metadata": {},
   "source": [
    "Some samples of the relationships we get from the dataset:"
   ]
  },
  {
   "cell_type": "code",
   "execution_count": 9,
   "metadata": {},
   "outputs": [
    {
     "data": {
      "text/plain": [
       "{'contains': [('com.fsck.k9.activity.setup.OpenPgpAppSelectDialog',\n",
       "   'com.fsck.k9.activity.setup.OpenPgpAppSelectDialog$ApgDeprecationDialogFragment'),\n",
       "  ('com.fsck.k9.notification', 'com.fsck.k9.notification.NotificationIds')],\n",
       " 'type': [('com.fsck.k9.preferences.TimePickerPreference.defaultValue',\n",
       "   'java.lang.String'),\n",
       "  ('com.fsck.k9.fragment.ConfirmationDialogFragment.newInstance(int,java.lang.String,java.lang.String,java.lang.String,java.lang.String).title',\n",
       "   'java.lang.String')],\n",
       " 'hasParameter': [('com.fsck.k9.message.MessageBuilder.setAttachments(java.util.List)',\n",
       "   'com.fsck.k9.message.MessageBuilder.setAttachments(java.util.List).attachments'),\n",
       "  ('com.fsck.k9.notification.NotificationActionCreator.createViewMessagePendingIntent(com.fsck.k9.activity.MessageReference,int)',\n",
       "   'com.fsck.k9.notification.NotificationActionCreator.createViewMessagePendingIntent(com.fsck.k9.activity.MessageReference,int).messageReference')],\n",
       " 'hasVariable': [('com.fsck.k9.activity.MessageInfoHolder',\n",
       "   'com.fsck.k9.activity.MessageInfoHolder.dirty'),\n",
       "  ('com.fsck.k9.activity.setup.AccountSettings',\n",
       "   'com.fsck.k9.activity.setup.AccountSettings.PREFERENCE_MESSAGE_SIZE')],\n",
       " 'specializes': [('com.fsck.k9.provider.MessageProvider$AccountsQueryHandler',\n",
       "   'com.fsck.k9.provider.MessageProvider$QueryHandler'),\n",
       "  ('com.fsck.k9.activity.setup.AccountSettings',\n",
       "   'com.fsck.k9.activity.K9PreferenceActivity')],\n",
       " 'invokes': [('com.fsck.k9.controller.MessagingController.moveOrCopyMessageSynchronous(com.fsck.k9.Account,java.lang.String,java.util.List,java.lang.String,boolean)',\n",
       "   'com.fsck.k9.controller.MessagingController.unsuppressMessages(com.fsck.k9.Account,java.util.List)'),\n",
       "  ('com.fsck.k9.view.MessageHeader.onFinishInflate()',\n",
       "   'com.fsck.k9.FontSizes.getMessageViewDate()')],\n",
       " 'returnType': [('com.fsck.k9.provider.MessageProvider$DeleteUriExtractor.com.fsck.k9.provider.MessageProvider$DeleteUriExtractor()',\n",
       "   'com.fsck.k9.provider.MessageProvider$DeleteUriExtractor'),\n",
       "  ('com.fsck.k9.message.IdentityHeaderBuilder.setBody(com.fsck.k9.mail.internet.TextBody)',\n",
       "   'com.fsck.k9.message.IdentityHeaderBuilder')],\n",
       " 'instantiates': [('com.fsck.k9.Account.getStats(android.content.Context)',\n",
       "   'com.fsck.k9.AccountStats'),\n",
       "  ('com.fsck.k9.message.html.HtmlProcessor.newInstance()',\n",
       "   'com.fsck.k9.message.html.HtmlProcessor')],\n",
       " 'hasScript': [('com.fsck.k9.K9',\n",
       "   'com.fsck.k9.K9.getLockScreenNotificationVisibility()'),\n",
       "  ('com.fsck.k9.preferences.AccountSettings$StorageProviderSetting',\n",
       "   'com.fsck.k9.preferences.AccountSettings$StorageProviderSetting.fromString(java.lang.String)')]}"
      ]
     },
     "execution_count": 9,
     "metadata": {},
     "output_type": "execute_result"
    }
   ],
   "source": [
    "{rel_type:random.sample(rel,2) for rel_type, rel in detailed_rels.items()}"
   ]
  },
  {
   "cell_type": "markdown",
   "metadata": {},
   "source": [
    "I'm going to generate the abstract graph from the detailed graph above.\n",
    "\n",
    "For the nodes, I'm going to only take the packages (Containers) and classes (Structures)."
   ]
  },
  {
   "cell_type": "code",
   "execution_count": 10,
   "metadata": {},
   "outputs": [
    {
     "data": {
      "text/plain": [
       "(['com.fsck.k9.fragment',\n",
       "  'com.fsck.k9.mailstore.migrations',\n",
       "  'com.fsck.k9.view',\n",
       "  'com.fsck.k9.service',\n",
       "  'com.fsck.k9.power'],\n",
       " ['com.fsck.k9.mailstore.AttachmentViewInfo',\n",
       "  'com.fsck.k9.mailstore.StorageManager',\n",
       "  'com.fsck.k9.preferences.Settings$V',\n",
       "  'com.fsck.k9.service.ShutdownReceiver',\n",
       "  'com.fsck.k9.ui.compose.QuotedMessagePresenter'])"
      ]
     },
     "execution_count": 10,
     "metadata": {},
     "output_type": "execute_result"
    }
   ],
   "source": [
    "containers = {id for (id,label) in nodes if label == 'Container'}\n",
    "structures = {id for (id,label) in nodes if label == 'Structure'}\n",
    "random.sample(containers,5), random.sample(structures,5)"
   ]
  },
  {
   "cell_type": "markdown",
   "metadata": {},
   "source": [
    "For the edges, I'm using the transitive properties, e.g., the relationship C1 \"calls\" C2 means: the class C1 \"hasScript\" S1, S1 \"invokes\" the script S2, and the class C2 \"hasScript\" S2."
   ]
  },
  {
   "cell_type": "code",
   "execution_count": 11,
   "metadata": {},
   "outputs": [
    {
     "data": {
      "text/plain": [
       "[('contains', 925),\n",
       " ('specializes', 159),\n",
       " ('holds', 848),\n",
       " ('accepts', 1107),\n",
       " ('returns', 1129),\n",
       " ('constructs', 502),\n",
       " ('calls', 1351)]"
      ]
     },
     "execution_count": 11,
     "metadata": {},
     "output_type": "execute_result"
    }
   ],
   "source": [
    "abstract_rels = dict()\n",
    "\n",
    "abstract_rels['contains'] = detailed_rels['contains']\n",
    "abstract_rels['specializes'] = detailed_rels['specializes']\n",
    "abstract_rels['holds'] = transitive_closure(detailed_rels['hasVariable'], detailed_rels['type'])\n",
    "abstract_rels['accepts'] = transitive_closure(transitive_closure(detailed_rels['hasScript'], detailed_rels['hasParameter']), detailed_rels['type'])\n",
    "abstract_rels['returns'] = transitive_closure(detailed_rels['hasScript'], detailed_rels['returnType'])\n",
    "abstract_rels['constructs'] = transitive_closure(detailed_rels['hasScript'], detailed_rels['instantiates'])\n",
    "abstract_rels['calls'] = transitive_closure(transitive_closure(detailed_rels['hasScript'], detailed_rels['invokes']), flip_tuples(detailed_rels['hasScript']))\n",
    "\n",
    "[(rel_type, len(abstract_rels[rel_type])) for rel_type in abstract_rels]"
   ]
  },
  {
   "cell_type": "markdown",
   "metadata": {},
   "source": [
    "Some samples of the abstracted relationships:"
   ]
  },
  {
   "cell_type": "code",
   "execution_count": 12,
   "metadata": {},
   "outputs": [
    {
     "data": {
      "text/plain": [
       "{'contains': [('com.fsck.k9.activity.Accounts',\n",
       "   'com.fsck.k9.activity.Accounts$ExportAsyncTask'),\n",
       "  ('com.fsck.k9.service.SleepService',\n",
       "   'com.fsck.k9.service.SleepService$SleepDatum')],\n",
       " 'specializes': [('com.fsck.k9.activity.Accounts$ImportSelectionDialog',\n",
       "   'com.fsck.k9.activity.misc.NonConfigurationInstance'),\n",
       "  ('com.fsck.k9.activity.ChooseAccount', 'com.fsck.k9.activity.AccountList')],\n",
       " 'holds': [('com.fsck.k9.service.PollService', 'java.lang.String'),\n",
       "  ('com.fsck.k9.ui.messageview.MessageViewFragment',\n",
       "   'com.fsck.k9.activity.MessageLoaderHelper$MessageLoaderCallbacks')],\n",
       " 'accepts': [('com.fsck.k9.preferences.SettingsImporter',\n",
       "   'com.fsck.k9.preferences.Storage'),\n",
       "  ('com.fsck.k9.preferences.IdentitySettings$SignatureSetting',\n",
       "   'java.lang.String')],\n",
       " 'returns': [('com.fsck.k9.message.signature.HtmlSignatureRemover$StripSignatureFilter',\n",
       "   'com.fsck.k9.message.signature.HtmlSignatureRemover$StripSignatureFilter'),\n",
       "  ('com.fsck.k9.activity.compose.IdentityAdapter$IdentityContainer',\n",
       "   'com.fsck.k9.activity.compose.IdentityAdapter$IdentityContainer')],\n",
       " 'constructs': [('com.fsck.k9.activity.Accounts$AccountsAdapter',\n",
       "   'com.fsck.k9.activity.Accounts$AccountsAdapter$AccountViewHolder'),\n",
       "  ('com.fsck.k9.mailstore.LocalFolder', 'com.fsck.k9.mailstore.ThreadInfo')],\n",
       " 'calls': [('com.fsck.k9.mailstore.migrations.Migrations',\n",
       "   'com.fsck.k9.mailstore.migrations.MigrationTo35'),\n",
       "  ('com.fsck.k9.mailstore.migrations.MigrationTo60',\n",
       "   'com.fsck.k9.controller.MessagingControllerCommands$PendingSetFlag')]}"
      ]
     },
     "execution_count": 12,
     "metadata": {},
     "output_type": "execute_result"
    }
   ],
   "source": [
    "{rel_type:random.sample(rel,2) for rel_type, rel in abstract_rels.items()}"
   ]
  },
  {
   "cell_type": "markdown",
   "metadata": {},
   "source": [
    "Now moving on to an example of call lifting; for that we focus on relationships \"contains\" and \"calls\"."
   ]
  },
  {
   "cell_type": "code",
   "execution_count": 13,
   "metadata": {},
   "outputs": [
    {
     "data": {
      "text/plain": [
       "[('com.fsck.k9.message.extractors',\n",
       "  'com.fsck.k9.message.extractors.AttachmentCounter'),\n",
       " ('com.fsck.k9.mailstore', 'com.fsck.k9.mailstore.MessageHelper'),\n",
       " ('com.fsck.k9.mailstore', 'com.fsck.k9.mailstore.LocalFolder'),\n",
       " ('com.fsck.k9.activity.setup', 'com.fsck.k9.activity.setup.Prefs'),\n",
       " ('com.fsck.k9.activity', 'com.fsck.k9.activity.ColorPickerDialog'),\n",
       " ('com.fsck.k9.message', 'com.fsck.k9.message.PgpMessageBuilder'),\n",
       " ('com.fsck.k9', 'com.fsck.k9.Globals'),\n",
       " ('com.fsck.k9.provider.EmailProvider',\n",
       "  'com.fsck.k9.provider.EmailProvider$MessageColumns'),\n",
       " ('com.fsck.k9', 'com.fsck.k9.Throttle$MyTimerTask$HandlerRunnable'),\n",
       " ('com.fsck.k9.preferences',\n",
       "  'com.fsck.k9.preferences.GlobalSettings$TimeSetting')]"
      ]
     },
     "execution_count": 13,
     "metadata": {},
     "output_type": "execute_result"
    }
   ],
   "source": [
    "random.sample(abstract_rels['contains'], 10)"
   ]
  },
  {
   "cell_type": "code",
   "execution_count": 14,
   "metadata": {},
   "outputs": [
    {
     "data": {
      "text/plain": [
       "[('com.fsck.k9.activity.setup.FontSizeSettings',\n",
       "  'com.fsck.k9.preferences.StorageEditor'),\n",
       " ('com.fsck.k9.mailstore.migrations.Migrations',\n",
       "  'com.fsck.k9.mailstore.migrations.MigrationTo54'),\n",
       " ('com.fsck.k9.helper.K9AlarmManager', 'com.fsck.k9.helper.K9AlarmManager'),\n",
       " ('com.fsck.k9.activity.compose.RecipientLoader',\n",
       "  'com.fsck.k9.activity.compose.RecipientLoader'),\n",
       " ('com.fsck.k9.preferences.GlobalSettings$DirectorySetting',\n",
       "  'com.fsck.k9.preferences.Settings$SettingsDescription'),\n",
       " ('com.fsck.k9.message.extractors.MessageFulltextCreator',\n",
       "  'com.fsck.k9.message.extractors.EncryptionDetector'),\n",
       " ('com.fsck.k9.mailstore.migrations.Migrations',\n",
       "  'com.fsck.k9.mailstore.migrations.MigrationTo34'),\n",
       " ('com.fsck.k9.helper.UnreadWidgetProperties', 'com.fsck.k9.Preferences'),\n",
       " ('com.fsck.k9.provider.DecryptedFileProvider$DecryptedFileProviderCleanupReceiver',\n",
       "  'com.fsck.k9.provider.DecryptedFileProvider'),\n",
       " ('com.fsck.k9.activity.loader.AttachmentInfoLoader',\n",
       "  'com.fsck.k9.activity.misc.Attachment')]"
      ]
     },
     "execution_count": 14,
     "metadata": {},
     "output_type": "execute_result"
    }
   ],
   "source": [
    "random.sample(abstract_rels['calls'], 10)"
   ]
  },
  {
   "cell_type": "markdown",
   "metadata": {},
   "source": [
    "Here's the code to lift the calls."
   ]
  },
  {
   "cell_type": "code",
   "execution_count": 15,
   "metadata": {},
   "outputs": [
    {
     "data": {
      "text/plain": [
       "{('com.fsck.k9', 'com.fsck.k9'),\n",
       " ('com.fsck.k9', 'com.fsck.k9.Account'),\n",
       " ('com.fsck.k9', 'com.fsck.k9.K9'),\n",
       " ('com.fsck.k9', 'com.fsck.k9.PRNGFixes'),\n",
       " ('com.fsck.k9', 'com.fsck.k9.Throttle'),\n",
       " ('com.fsck.k9', 'com.fsck.k9.controller'),\n",
       " ('com.fsck.k9', 'com.fsck.k9.helper'),\n",
       " ('com.fsck.k9', 'com.fsck.k9.mailstore'),\n",
       " ('com.fsck.k9', 'com.fsck.k9.power'),\n",
       " ('com.fsck.k9', 'com.fsck.k9.preferences'),\n",
       " ('com.fsck.k9', 'com.fsck.k9.preferences.GlobalSettings'),\n",
       " ('com.fsck.k9', 'com.fsck.k9.provider'),\n",
       " ('com.fsck.k9', 'com.fsck.k9.search'),\n",
       " ('com.fsck.k9', 'com.fsck.k9.service'),\n",
       " ('com.fsck.k9', 'com.fsck.k9.widget.list'),\n",
       " ('com.fsck.k9.PRNGFixes', 'com.fsck.k9'),\n",
       " ('com.fsck.k9.PRNGFixes', 'com.fsck.k9.PRNGFixes'),\n",
       " ('com.fsck.k9.activity', 'com.fsck.k9'),\n",
       " ('com.fsck.k9.activity', 'com.fsck.k9.activity'),\n",
       " ('com.fsck.k9.activity', 'com.fsck.k9.activity.Accounts'),\n",
       " ('com.fsck.k9.activity', 'com.fsck.k9.activity.AlternateRecipientAdapter'),\n",
       " ('com.fsck.k9.activity', 'com.fsck.k9.activity.ColorPickerDialog'),\n",
       " ('com.fsck.k9.activity', 'com.fsck.k9.activity.FolderList'),\n",
       " ('com.fsck.k9.activity', 'com.fsck.k9.activity.MessageCompose'),\n",
       " ('com.fsck.k9.activity', 'com.fsck.k9.activity.MessageLoaderHelper'),\n",
       " ('com.fsck.k9.activity', 'com.fsck.k9.activity.compose'),\n",
       " ('com.fsck.k9.activity', 'com.fsck.k9.activity.misc'),\n",
       " ('com.fsck.k9.activity', 'com.fsck.k9.activity.setup'),\n",
       " ('com.fsck.k9.activity', 'com.fsck.k9.autocrypt'),\n",
       " ('com.fsck.k9.activity', 'com.fsck.k9.controller'),\n",
       " ('com.fsck.k9.activity', 'com.fsck.k9.fragment'),\n",
       " ('com.fsck.k9.activity', 'com.fsck.k9.helper'),\n",
       " ('com.fsck.k9.activity', 'com.fsck.k9.mailstore'),\n",
       " ('com.fsck.k9.activity', 'com.fsck.k9.message'),\n",
       " ('com.fsck.k9.activity', 'com.fsck.k9.notification'),\n",
       " ('com.fsck.k9.activity', 'com.fsck.k9.preferences'),\n",
       " ('com.fsck.k9.activity', 'com.fsck.k9.provider'),\n",
       " ('com.fsck.k9.activity', 'com.fsck.k9.search'),\n",
       " ('com.fsck.k9.activity', 'com.fsck.k9.service'),\n",
       " ('com.fsck.k9.activity', 'com.fsck.k9.ui'),\n",
       " ('com.fsck.k9.activity', 'com.fsck.k9.ui.compose'),\n",
       " ('com.fsck.k9.activity', 'com.fsck.k9.ui.crypto'),\n",
       " ('com.fsck.k9.activity', 'com.fsck.k9.ui.message'),\n",
       " ('com.fsck.k9.activity', 'com.fsck.k9.ui.messageview'),\n",
       " ('com.fsck.k9.activity', 'com.fsck.k9.view'),\n",
       " ('com.fsck.k9.activity', 'com.fsck.k9.view.RecipientSelectView'),\n",
       " ('com.fsck.k9.activity.AccountList', 'com.fsck.k9'),\n",
       " ('com.fsck.k9.activity.AccountList', 'com.fsck.k9.activity'),\n",
       " ('com.fsck.k9.activity.Accounts', 'com.fsck.k9'),\n",
       " ('com.fsck.k9.activity.Accounts', 'com.fsck.k9.activity'),\n",
       " ('com.fsck.k9.activity.Accounts', 'com.fsck.k9.activity.Accounts'),\n",
       " ('com.fsck.k9.activity.Accounts', 'com.fsck.k9.activity.misc'),\n",
       " ('com.fsck.k9.activity.Accounts', 'com.fsck.k9.controller'),\n",
       " ('com.fsck.k9.activity.Accounts', 'com.fsck.k9.helper'),\n",
       " ('com.fsck.k9.activity.Accounts', 'com.fsck.k9.preferences'),\n",
       " ('com.fsck.k9.activity.Accounts', 'com.fsck.k9.search'),\n",
       " ('com.fsck.k9.activity.Accounts', 'com.fsck.k9.view'),\n",
       " ('com.fsck.k9.activity.FolderList', 'com.fsck.k9'),\n",
       " ('com.fsck.k9.activity.FolderList', 'com.fsck.k9.activity'),\n",
       " ('com.fsck.k9.activity.FolderList', 'com.fsck.k9.activity.FolderList'),\n",
       " ('com.fsck.k9.activity.FolderList', 'com.fsck.k9.helper'),\n",
       " ('com.fsck.k9.activity.FolderList', 'com.fsck.k9.search'),\n",
       " ('com.fsck.k9.activity.FolderList', 'com.fsck.k9.view'),\n",
       " ('com.fsck.k9.activity.MessageCompose', 'com.fsck.k9'),\n",
       " ('com.fsck.k9.activity.MessageCompose', 'com.fsck.k9.activity'),\n",
       " ('com.fsck.k9.activity.MessageCompose',\n",
       "  'com.fsck.k9.activity.MessageCompose'),\n",
       " ('com.fsck.k9.activity.MessageCompose', 'com.fsck.k9.controller'),\n",
       " ('com.fsck.k9.activity.MessageCompose', 'com.fsck.k9.helper'),\n",
       " ('com.fsck.k9.activity.MessageList', 'com.fsck.k9'),\n",
       " ('com.fsck.k9.activity.MessageList', 'com.fsck.k9.activity'),\n",
       " ('com.fsck.k9.activity.UpgradeDatabases', 'com.fsck.k9'),\n",
       " ('com.fsck.k9.activity.UpgradeDatabases', 'com.fsck.k9.activity'),\n",
       " ('com.fsck.k9.activity.compose', 'com.fsck.k9'),\n",
       " ('com.fsck.k9.activity.compose', 'com.fsck.k9.activity'),\n",
       " ('com.fsck.k9.activity.compose', 'com.fsck.k9.activity.compose'),\n",
       " ('com.fsck.k9.activity.compose',\n",
       "  'com.fsck.k9.activity.compose.AttachmentPresenter'),\n",
       " ('com.fsck.k9.activity.compose',\n",
       "  'com.fsck.k9.activity.compose.ComposeCryptoStatus'),\n",
       " ('com.fsck.k9.activity.compose',\n",
       "  'com.fsck.k9.activity.compose.PgpEnabledErrorDialog'),\n",
       " ('com.fsck.k9.activity.compose',\n",
       "  'com.fsck.k9.activity.compose.PgpInlineDialog'),\n",
       " ('com.fsck.k9.activity.compose',\n",
       "  'com.fsck.k9.activity.compose.PgpSignOnlyDialog'),\n",
       " ('com.fsck.k9.activity.compose',\n",
       "  'com.fsck.k9.activity.compose.RecipientPresenter'),\n",
       " ('com.fsck.k9.activity.compose', 'com.fsck.k9.activity.misc'),\n",
       " ('com.fsck.k9.activity.compose', 'com.fsck.k9.controller'),\n",
       " ('com.fsck.k9.activity.compose', 'com.fsck.k9.helper'),\n",
       " ('com.fsck.k9.activity.compose', 'com.fsck.k9.mailstore'),\n",
       " ('com.fsck.k9.activity.compose', 'com.fsck.k9.message'),\n",
       " ('com.fsck.k9.activity.compose',\n",
       "  'com.fsck.k9.message.AutocryptStatusInteractor'),\n",
       " ('com.fsck.k9.activity.compose', 'com.fsck.k9.view'),\n",
       " ('com.fsck.k9.activity.compose', 'com.fsck.k9.view.RecipientSelectView'),\n",
       " ('com.fsck.k9.activity.loader', 'com.fsck.k9.activity.misc'),\n",
       " ('com.fsck.k9.activity.misc', 'com.fsck.k9.activity.misc'),\n",
       " ('com.fsck.k9.activity.misc',\n",
       "  'com.fsck.k9.activity.misc.ContactPictureLoader'),\n",
       " ('com.fsck.k9.activity.misc',\n",
       "  'com.fsck.k9.activity.misc.SwipeGestureDetector'),\n",
       " ('com.fsck.k9.activity.misc', 'com.fsck.k9.helper'),\n",
       " ('com.fsck.k9.activity.misc.ContactPictureLoader',\n",
       "  'com.fsck.k9.activity.misc'),\n",
       " ('com.fsck.k9.activity.misc.ContactPictureLoader',\n",
       "  'com.fsck.k9.activity.misc.ContactPictureLoader'),\n",
       " ('com.fsck.k9.activity.setup', 'com.fsck.k9'),\n",
       " ('com.fsck.k9.activity.setup', 'com.fsck.k9.Account'),\n",
       " ('com.fsck.k9.activity.setup', 'com.fsck.k9.account'),\n",
       " ('com.fsck.k9.activity.setup', 'com.fsck.k9.activity'),\n",
       " ('com.fsck.k9.activity.setup', 'com.fsck.k9.activity.setup'),\n",
       " ('com.fsck.k9.activity.setup',\n",
       "  'com.fsck.k9.activity.setup.AccountSetupCheckSettings'),\n",
       " ('com.fsck.k9.activity.setup',\n",
       "  'com.fsck.k9.activity.setup.OpenPgpAppSelectDialog'),\n",
       " ('com.fsck.k9.activity.setup', 'com.fsck.k9.controller'),\n",
       " ('com.fsck.k9.activity.setup', 'com.fsck.k9.crypto'),\n",
       " ('com.fsck.k9.activity.setup', 'com.fsck.k9.fragment'),\n",
       " ('com.fsck.k9.activity.setup', 'com.fsck.k9.helper'),\n",
       " ('com.fsck.k9.activity.setup', 'com.fsck.k9.mailstore'),\n",
       " ('com.fsck.k9.activity.setup', 'com.fsck.k9.message.html'),\n",
       " ('com.fsck.k9.activity.setup', 'com.fsck.k9.notification'),\n",
       " ('com.fsck.k9.activity.setup', 'com.fsck.k9.preferences'),\n",
       " ('com.fsck.k9.activity.setup', 'com.fsck.k9.service'),\n",
       " ('com.fsck.k9.activity.setup', 'com.fsck.k9.setup'),\n",
       " ('com.fsck.k9.activity.setup', 'com.fsck.k9.view'),\n",
       " ('com.fsck.k9.activity.setup.AccountSettings', 'com.fsck.k9'),\n",
       " ('com.fsck.k9.activity.setup.AccountSettings', 'com.fsck.k9.activity'),\n",
       " ('com.fsck.k9.activity.setup.AccountSettings', 'com.fsck.k9.mailstore'),\n",
       " ('com.fsck.k9.activity.setup.AccountSetupCheckSettings', 'com.fsck.k9'),\n",
       " ('com.fsck.k9.activity.setup.AccountSetupCheckSettings',\n",
       "  'com.fsck.k9.activity.setup'),\n",
       " ('com.fsck.k9.activity.setup.AccountSetupCheckSettings',\n",
       "  'com.fsck.k9.activity.setup.AccountSetupCheckSettings'),\n",
       " ('com.fsck.k9.activity.setup.AccountSetupCheckSettings',\n",
       "  'com.fsck.k9.controller'),\n",
       " ('com.fsck.k9.activity.setup.OpenPgpAppSelectDialog', 'com.fsck.k9'),\n",
       " ('com.fsck.k9.activity.setup.OpenPgpAppSelectDialog',\n",
       "  'com.fsck.k9.activity.setup'),\n",
       " ('com.fsck.k9.activity.setup.OpenPgpAppSelectDialog',\n",
       "  'com.fsck.k9.activity.setup.OpenPgpAppSelectDialog'),\n",
       " ('com.fsck.k9.autocrypt', 'com.fsck.k9.autocrypt'),\n",
       " ('com.fsck.k9.cache', 'com.fsck.k9.cache'),\n",
       " ('com.fsck.k9.cache', 'com.fsck.k9.helper'),\n",
       " ('com.fsck.k9.cache', 'com.fsck.k9.mailstore'),\n",
       " ('com.fsck.k9.controller', 'com.fsck.k9'),\n",
       " ('com.fsck.k9.controller', 'com.fsck.k9.activity'),\n",
       " ('com.fsck.k9.controller', 'com.fsck.k9.cache'),\n",
       " ('com.fsck.k9.controller', 'com.fsck.k9.controller'),\n",
       " ('com.fsck.k9.controller', 'com.fsck.k9.controller.MessagingController'),\n",
       " ('com.fsck.k9.controller',\n",
       "  'com.fsck.k9.controller.MessagingControllerCommands'),\n",
       " ('com.fsck.k9.controller', 'com.fsck.k9.controller.ProgressBodyFactory'),\n",
       " ('com.fsck.k9.controller', 'com.fsck.k9.helper'),\n",
       " ('com.fsck.k9.controller', 'com.fsck.k9.mailstore'),\n",
       " ('com.fsck.k9.controller', 'com.fsck.k9.notification'),\n",
       " ('com.fsck.k9.controller', 'com.fsck.k9.search'),\n",
       " ('com.fsck.k9.controller', 'com.fsck.k9.service'),\n",
       " ('com.fsck.k9.controller.MessagingControllerCommands',\n",
       "  'com.fsck.k9.controller'),\n",
       " ('com.fsck.k9.controller.MessagingControllerCommands',\n",
       "  'com.fsck.k9.controller.MessagingControllerCommands'),\n",
       " ('com.fsck.k9.crypto', 'com.fsck.k9'),\n",
       " ('com.fsck.k9.crypto', 'com.fsck.k9.crypto'),\n",
       " ('com.fsck.k9.crypto', 'com.fsck.k9.mailstore'),\n",
       " ('com.fsck.k9.crypto', 'com.fsck.k9.ui.crypto'),\n",
       " ('com.fsck.k9.fragment', 'com.fsck.k9'),\n",
       " ('com.fsck.k9.fragment', 'com.fsck.k9.Account'),\n",
       " ('com.fsck.k9.fragment', 'com.fsck.k9.activity'),\n",
       " ('com.fsck.k9.fragment', 'com.fsck.k9.controller'),\n",
       " ('com.fsck.k9.fragment', 'com.fsck.k9.fragment'),\n",
       " ('com.fsck.k9.fragment',\n",
       "  'com.fsck.k9.fragment.AttachmentDownloadDialogFragment'),\n",
       " ('com.fsck.k9.fragment', 'com.fsck.k9.fragment.ConfirmationDialogFragment'),\n",
       " ('com.fsck.k9.fragment', 'com.fsck.k9.fragment.MessageListFragment'),\n",
       " ('com.fsck.k9.fragment', 'com.fsck.k9.fragment.ProgressDialogFragment'),\n",
       " ('com.fsck.k9.fragment', 'com.fsck.k9.helper'),\n",
       " ('com.fsck.k9.fragment', 'com.fsck.k9.mailstore'),\n",
       " ('com.fsck.k9.fragment', 'com.fsck.k9.preferences'),\n",
       " ('com.fsck.k9.fragment', 'com.fsck.k9.search'),\n",
       " ('com.fsck.k9.fragment.MessageListFragment', 'com.fsck.k9'),\n",
       " ('com.fsck.k9.fragment.MessageListFragment', 'com.fsck.k9.activity'),\n",
       " ('com.fsck.k9.fragment.MessageListFragment', 'com.fsck.k9.controller'),\n",
       " ('com.fsck.k9.fragment.MessageListFragment', 'com.fsck.k9.fragment'),\n",
       " ('com.fsck.k9.fragment.MessageListFragment',\n",
       "  'com.fsck.k9.fragment.MessageListFragment'),\n",
       " ('com.fsck.k9.fragment.MessageListFragment', 'com.fsck.k9.helper'),\n",
       " ('com.fsck.k9.fragment.MessageListFragment', 'com.fsck.k9.search'),\n",
       " ('com.fsck.k9.fragment.MessageListFragmentComparators',\n",
       "  'com.fsck.k9.fragment'),\n",
       " ('com.fsck.k9.helper', 'com.fsck.k9'),\n",
       " ('com.fsck.k9.helper', 'com.fsck.k9.activity'),\n",
       " ('com.fsck.k9.helper', 'com.fsck.k9.controller'),\n",
       " ('com.fsck.k9.helper', 'com.fsck.k9.helper'),\n",
       " ('com.fsck.k9.helper', 'com.fsck.k9.helper.FileBrowserHelper'),\n",
       " ('com.fsck.k9.helper', 'com.fsck.k9.helper.MailTo'),\n",
       " ('com.fsck.k9.helper', 'com.fsck.k9.mailstore'),\n",
       " ('com.fsck.k9.helper', 'com.fsck.k9.power'),\n",
       " ('com.fsck.k9.helper', 'com.fsck.k9.search'),\n",
       " ('com.fsck.k9.helper', 'com.fsck.k9.ui'),\n",
       " ('com.fsck.k9.helper.jsoup', 'com.fsck.k9.helper.jsoup'),\n",
       " ('com.fsck.k9.mailstore', 'com.fsck.k9'),\n",
       " ('com.fsck.k9.mailstore', 'com.fsck.k9.activity'),\n",
       " ('com.fsck.k9.mailstore', 'com.fsck.k9.controller'),\n",
       " ('com.fsck.k9.mailstore',\n",
       "  'com.fsck.k9.controller.MessagingControllerCommands'),\n",
       " ('com.fsck.k9.mailstore', 'com.fsck.k9.crypto'),\n",
       " ('com.fsck.k9.mailstore', 'com.fsck.k9.helper'),\n",
       " ('com.fsck.k9.mailstore', 'com.fsck.k9.mailstore'),\n",
       " ('com.fsck.k9.mailstore', 'com.fsck.k9.mailstore.LocalFolder'),\n",
       " ('com.fsck.k9.mailstore', 'com.fsck.k9.mailstore.LocalStore'),\n",
       " ('com.fsck.k9.mailstore', 'com.fsck.k9.mailstore.LockableDatabase'),\n",
       " ('com.fsck.k9.mailstore', 'com.fsck.k9.mailstore.MimePartStreamParser'),\n",
       " ('com.fsck.k9.mailstore', 'com.fsck.k9.mailstore.StorageManager'),\n",
       " ('com.fsck.k9.mailstore', 'com.fsck.k9.mailstore.migrations'),\n",
       " ('com.fsck.k9.mailstore', 'com.fsck.k9.mailstore.util'),\n",
       " ('com.fsck.k9.mailstore', 'com.fsck.k9.message.extractors'),\n",
       " ('com.fsck.k9.mailstore', 'com.fsck.k9.message.html'),\n",
       " ('com.fsck.k9.mailstore', 'com.fsck.k9.preferences'),\n",
       " ('com.fsck.k9.mailstore', 'com.fsck.k9.search'),\n",
       " ('com.fsck.k9.mailstore', 'com.fsck.k9.ui.crypto'),\n",
       " ('com.fsck.k9.mailstore.LockableDatabase', 'com.fsck.k9.mailstore'),\n",
       " ('com.fsck.k9.mailstore.MimePartStreamParser', 'com.fsck.k9.mailstore'),\n",
       " ('com.fsck.k9.mailstore.MimePartStreamParser',\n",
       "  'com.fsck.k9.mailstore.MimePartStreamParser'),\n",
       " ('com.fsck.k9.mailstore.StorageManager', 'com.fsck.k9.mailstore'),\n",
       " ('com.fsck.k9.mailstore.StorageManager',\n",
       "  'com.fsck.k9.mailstore.StorageManager'),\n",
       " ('com.fsck.k9.mailstore.StoreSchemaDefinition', 'com.fsck.k9.mailstore'),\n",
       " ('com.fsck.k9.mailstore.migrations', 'com.fsck.k9'),\n",
       " ('com.fsck.k9.mailstore.migrations', 'com.fsck.k9.controller'),\n",
       " ('com.fsck.k9.mailstore.migrations',\n",
       "  'com.fsck.k9.controller.MessagingControllerCommands'),\n",
       " ('com.fsck.k9.mailstore.migrations', 'com.fsck.k9.helper'),\n",
       " ('com.fsck.k9.mailstore.migrations', 'com.fsck.k9.mailstore'),\n",
       " ('com.fsck.k9.mailstore.migrations', 'com.fsck.k9.mailstore.migrations'),\n",
       " ('com.fsck.k9.mailstore.migrations',\n",
       "  'com.fsck.k9.mailstore.migrations.MigrationTo51'),\n",
       " ('com.fsck.k9.mailstore.migrations', 'com.fsck.k9.preferences'),\n",
       " ('com.fsck.k9.mailstore.util', 'com.fsck.k9.mailstore.util'),\n",
       " ('com.fsck.k9.message', 'com.fsck.k9'),\n",
       " ('com.fsck.k9.message', 'com.fsck.k9.activity'),\n",
       " ('com.fsck.k9.message', 'com.fsck.k9.activity.compose'),\n",
       " ('com.fsck.k9.message', 'com.fsck.k9.autocrypt'),\n",
       " ('com.fsck.k9.message', 'com.fsck.k9.crypto'),\n",
       " ('com.fsck.k9.message', 'com.fsck.k9.message'),\n",
       " ('com.fsck.k9.message', 'com.fsck.k9.message.MessageBuilder'),\n",
       " ('com.fsck.k9.message', 'com.fsck.k9.message.html'),\n",
       " ('com.fsck.k9.message', 'com.fsck.k9.message.quote'),\n",
       " ('com.fsck.k9.message.extractors', 'com.fsck.k9'),\n",
       " ('com.fsck.k9.message.extractors', 'com.fsck.k9.crypto'),\n",
       " ('com.fsck.k9.message.extractors', 'com.fsck.k9.mailstore'),\n",
       " ('com.fsck.k9.message.extractors', 'com.fsck.k9.message.extractors'),\n",
       " ('com.fsck.k9.message.extractors', 'com.fsck.k9.message.html'),\n",
       " ('com.fsck.k9.message.extractors', 'com.fsck.k9.provider'),\n",
       " ('com.fsck.k9.message.html', 'com.fsck.k9'),\n",
       " ('com.fsck.k9.message.html', 'com.fsck.k9.message.html'),\n",
       " ('com.fsck.k9.message.html', 'com.fsck.k9.message.html.HeadCleaner'),\n",
       " ('com.fsck.k9.message.html', 'com.fsck.k9.message.html.HtmlConverter'),\n",
       " ('com.fsck.k9.message.html.HeadCleaner', 'com.fsck.k9.message.html'),\n",
       " ('com.fsck.k9.message.html.HeadCleaner',\n",
       "  'com.fsck.k9.message.html.HeadCleaner'),\n",
       " ('com.fsck.k9.message.html.HtmlConverter', 'com.fsck.k9.message.html'),\n",
       " ('com.fsck.k9.message.html.HtmlConverter',\n",
       "  'com.fsck.k9.message.html.HtmlConverter'),\n",
       " ('com.fsck.k9.message.quote', 'com.fsck.k9'),\n",
       " ('com.fsck.k9.message.quote', 'com.fsck.k9.helper'),\n",
       " ('com.fsck.k9.message.quote', 'com.fsck.k9.message.html'),\n",
       " ('com.fsck.k9.message.quote', 'com.fsck.k9.message.quote'),\n",
       " ('com.fsck.k9.message.signature', 'com.fsck.k9.helper.jsoup'),\n",
       " ('com.fsck.k9.message.signature', 'com.fsck.k9.message.html'),\n",
       " ('com.fsck.k9.message.signature', 'com.fsck.k9.message.signature'),\n",
       " ('com.fsck.k9.notification', 'com.fsck.k9'),\n",
       " ('com.fsck.k9.notification', 'com.fsck.k9.activity'),\n",
       " ('com.fsck.k9.notification', 'com.fsck.k9.activity.compose'),\n",
       " ('com.fsck.k9.notification', 'com.fsck.k9.activity.setup'),\n",
       " ('com.fsck.k9.notification', 'com.fsck.k9.controller'),\n",
       " ('com.fsck.k9.notification', 'com.fsck.k9.helper'),\n",
       " ('com.fsck.k9.notification', 'com.fsck.k9.mailstore'),\n",
       " ('com.fsck.k9.notification', 'com.fsck.k9.notification'),\n",
       " ('com.fsck.k9.notification', 'com.fsck.k9.search'),\n",
       " ('com.fsck.k9.notification', 'com.fsck.k9.service'),\n",
       " ('com.fsck.k9.power', 'com.fsck.k9.power'),\n",
       " ('com.fsck.k9.power', 'com.fsck.k9.power.DeviceIdleManager'),\n",
       " ('com.fsck.k9.power', 'com.fsck.k9.service'),\n",
       " ('com.fsck.k9.power.DeviceIdleManager', 'com.fsck.k9.power'),\n",
       " ('com.fsck.k9.preferences', 'com.fsck.k9'),\n",
       " ('com.fsck.k9.preferences', 'com.fsck.k9.helper'),\n",
       " ('com.fsck.k9.preferences', 'com.fsck.k9.mailstore'),\n",
       " ('com.fsck.k9.preferences', 'com.fsck.k9.preferences'),\n",
       " ('com.fsck.k9.preferences', 'com.fsck.k9.preferences.GlobalSettings'),\n",
       " ('com.fsck.k9.preferences', 'com.fsck.k9.preferences.IdentitySettings'),\n",
       " ('com.fsck.k9.preferences', 'com.fsck.k9.preferences.Settings'),\n",
       " ('com.fsck.k9.preferences', 'com.fsck.k9.preferences.SettingsImporter'),\n",
       " ('com.fsck.k9.preferences.AccountSettings', 'com.fsck.k9.mailstore'),\n",
       " ('com.fsck.k9.preferences.AccountSettings', 'com.fsck.k9.preferences'),\n",
       " ('com.fsck.k9.preferences.AccountSettings',\n",
       "  'com.fsck.k9.preferences.Settings'),\n",
       " ('com.fsck.k9.preferences.GlobalSettings', 'com.fsck.k9.preferences'),\n",
       " ('com.fsck.k9.preferences.GlobalSettings',\n",
       "  'com.fsck.k9.preferences.GlobalSettings'),\n",
       " ('com.fsck.k9.preferences.GlobalSettings',\n",
       "  'com.fsck.k9.preferences.Settings'),\n",
       " ('com.fsck.k9.preferences.IdentitySettings', 'com.fsck.k9'),\n",
       " ('com.fsck.k9.preferences.IdentitySettings', 'com.fsck.k9.preferences'),\n",
       " ('com.fsck.k9.preferences.IdentitySettings',\n",
       "  'com.fsck.k9.preferences.IdentitySettings'),\n",
       " ('com.fsck.k9.preferences.IdentitySettings',\n",
       "  'com.fsck.k9.preferences.Settings'),\n",
       " ('com.fsck.k9.preferences.Settings', 'com.fsck.k9.preferences'),\n",
       " ('com.fsck.k9.preferences.Settings', 'com.fsck.k9.preferences.Settings'),\n",
       " ('com.fsck.k9.preferences.SettingsImporter', 'com.fsck.k9.preferences'),\n",
       " ('com.fsck.k9.preferences.SettingsImporter',\n",
       "  'com.fsck.k9.preferences.SettingsImporter'),\n",
       " ('com.fsck.k9.provider', 'com.fsck.k9'),\n",
       " ('com.fsck.k9.provider', 'com.fsck.k9.activity'),\n",
       " ('com.fsck.k9.provider', 'com.fsck.k9.controller'),\n",
       " ('com.fsck.k9.provider', 'com.fsck.k9.helper'),\n",
       " ('com.fsck.k9.provider', 'com.fsck.k9.mailstore'),\n",
       " ('com.fsck.k9.provider', 'com.fsck.k9.provider'),\n",
       " ('com.fsck.k9.provider', 'com.fsck.k9.provider.EmailProvider'),\n",
       " ('com.fsck.k9.provider', 'com.fsck.k9.provider.MessageProvider'),\n",
       " ('com.fsck.k9.provider', 'com.fsck.k9.search'),\n",
       " ('com.fsck.k9.provider.AttachmentTempFileProvider', 'com.fsck.k9.provider'),\n",
       " ('com.fsck.k9.provider.DecryptedFileProvider', 'com.fsck.k9.provider'),\n",
       " ('com.fsck.k9.provider.EmailProvider', 'com.fsck.k9.provider'),\n",
       " ('com.fsck.k9.provider.EmailProvider', 'com.fsck.k9.provider.EmailProvider'),\n",
       " ('com.fsck.k9.provider.MessageProvider', 'com.fsck.k9'),\n",
       " ('com.fsck.k9.provider.MessageProvider', 'com.fsck.k9.controller'),\n",
       " ('com.fsck.k9.provider.MessageProvider', 'com.fsck.k9.helper'),\n",
       " ('com.fsck.k9.provider.MessageProvider', 'com.fsck.k9.mailstore'),\n",
       " ('com.fsck.k9.provider.MessageProvider', 'com.fsck.k9.provider'),\n",
       " ('com.fsck.k9.provider.MessageProvider',\n",
       "  'com.fsck.k9.provider.MessageProvider'),\n",
       " ('com.fsck.k9.provider.MessageProvider', 'com.fsck.k9.search'),\n",
       " ('com.fsck.k9.remotecontrol', 'com.fsck.k9.remotecontrol'),\n",
       " ('com.fsck.k9.search', 'com.fsck.k9'),\n",
       " ('com.fsck.k9.search', 'com.fsck.k9.mailstore'),\n",
       " ('com.fsck.k9.search', 'com.fsck.k9.search'),\n",
       " ('com.fsck.k9.search', 'com.fsck.k9.search.SearchSpecification'),\n",
       " ('com.fsck.k9.service', 'com.fsck.k9'),\n",
       " ('com.fsck.k9.service', 'com.fsck.k9.controller'),\n",
       " ('com.fsck.k9.service', 'com.fsck.k9.helper'),\n",
       " ('com.fsck.k9.service', 'com.fsck.k9.mailstore'),\n",
       " ('com.fsck.k9.service', 'com.fsck.k9.preferences'),\n",
       " ('com.fsck.k9.service', 'com.fsck.k9.service'),\n",
       " ('com.fsck.k9.service', 'com.fsck.k9.service.PollService'),\n",
       " ('com.fsck.k9.service.PollService', 'com.fsck.k9'),\n",
       " ('com.fsck.k9.service.PollService', 'com.fsck.k9.controller'),\n",
       " ('com.fsck.k9.service.PollService', 'com.fsck.k9.service'),\n",
       " ('com.fsck.k9.service.PollService', 'com.fsck.k9.service.PollService'),\n",
       " ('com.fsck.k9.ui', 'com.fsck.k9.ui'),\n",
       " ('com.fsck.k9.ui.ContactBadge', 'com.fsck.k9.ui'),\n",
       " ('com.fsck.k9.ui.compose', 'com.fsck.k9'),\n",
       " ('com.fsck.k9.ui.compose', 'com.fsck.k9.activity'),\n",
       " ('com.fsck.k9.ui.compose', 'com.fsck.k9.mailstore'),\n",
       " ('com.fsck.k9.ui.compose', 'com.fsck.k9.message'),\n",
       " ('com.fsck.k9.ui.compose', 'com.fsck.k9.message.extractors'),\n",
       " ('com.fsck.k9.ui.compose', 'com.fsck.k9.message.html'),\n",
       " ('com.fsck.k9.ui.compose', 'com.fsck.k9.message.quote'),\n",
       " ('com.fsck.k9.ui.compose', 'com.fsck.k9.message.signature'),\n",
       " ('com.fsck.k9.ui.compose', 'com.fsck.k9.ui'),\n",
       " ('com.fsck.k9.ui.compose', 'com.fsck.k9.ui.compose'),\n",
       " ('com.fsck.k9.ui.compose', 'com.fsck.k9.view'),\n",
       " ('com.fsck.k9.ui.crypto', 'com.fsck.k9'),\n",
       " ('com.fsck.k9.ui.crypto', 'com.fsck.k9.autocrypt'),\n",
       " ('com.fsck.k9.ui.crypto', 'com.fsck.k9.crypto'),\n",
       " ('com.fsck.k9.ui.crypto', 'com.fsck.k9.mailstore'),\n",
       " ('com.fsck.k9.ui.crypto', 'com.fsck.k9.provider'),\n",
       " ('com.fsck.k9.ui.crypto', 'com.fsck.k9.ui.crypto'),\n",
       " ('com.fsck.k9.ui.dialog', 'com.fsck.k9.ui.dialog'),\n",
       " ('com.fsck.k9.ui.message', 'com.fsck.k9.activity'),\n",
       " ('com.fsck.k9.ui.message', 'com.fsck.k9.controller'),\n",
       " ('com.fsck.k9.ui.message', 'com.fsck.k9.mailstore'),\n",
       " ('com.fsck.k9.ui.message', 'com.fsck.k9.ui.message'),\n",
       " ('com.fsck.k9.ui.messageview', 'com.fsck.k9'),\n",
       " ('com.fsck.k9.ui.messageview', 'com.fsck.k9.activity'),\n",
       " ('com.fsck.k9.ui.messageview', 'com.fsck.k9.cache'),\n",
       " ('com.fsck.k9.ui.messageview', 'com.fsck.k9.controller'),\n",
       " ('com.fsck.k9.ui.messageview', 'com.fsck.k9.fragment'),\n",
       " ('com.fsck.k9.ui.messageview', 'com.fsck.k9.helper'),\n",
       " ('com.fsck.k9.ui.messageview', 'com.fsck.k9.mailstore'),\n",
       " ('com.fsck.k9.ui.messageview', 'com.fsck.k9.message.html'),\n",
       " ('com.fsck.k9.ui.messageview', 'com.fsck.k9.provider'),\n",
       " ('com.fsck.k9.ui.messageview', 'com.fsck.k9.ui.messageview'),\n",
       " ('com.fsck.k9.ui.messageview',\n",
       "  'com.fsck.k9.ui.messageview.AttachmentController'),\n",
       " ('com.fsck.k9.ui.messageview', 'com.fsck.k9.ui.messageview.CryptoInfoDialog'),\n",
       " ('com.fsck.k9.ui.messageview',\n",
       "  'com.fsck.k9.ui.messageview.MessageContainerView'),\n",
       " ('com.fsck.k9.ui.messageview',\n",
       "  'com.fsck.k9.ui.messageview.MessageCryptoPresenter'),\n",
       " ('com.fsck.k9.ui.messageview',\n",
       "  'com.fsck.k9.ui.messageview.MessageViewFragment'),\n",
       " ('com.fsck.k9.ui.messageview', 'com.fsck.k9.view'),\n",
       " ('com.fsck.k9.ui.messageview.AttachmentController',\n",
       "  'com.fsck.k9.ui.messageview'),\n",
       " ('com.fsck.k9.ui.messageview.AttachmentController',\n",
       "  'com.fsck.k9.ui.messageview.AttachmentController'),\n",
       " ('com.fsck.k9.view', 'com.fsck.k9'),\n",
       " ('com.fsck.k9.view', 'com.fsck.k9.activity'),\n",
       " ('com.fsck.k9.view', 'com.fsck.k9.activity.compose'),\n",
       " ('com.fsck.k9.view', 'com.fsck.k9.helper'),\n",
       " ('com.fsck.k9.view', 'com.fsck.k9.mailstore'),\n",
       " ('com.fsck.k9.view', 'com.fsck.k9.ui.messageview'),\n",
       " ('com.fsck.k9.view', 'com.fsck.k9.view'),\n",
       " ('com.fsck.k9.view', 'com.fsck.k9.view.ClientCertificateSpinner'),\n",
       " ('com.fsck.k9.view', 'com.fsck.k9.view.K9WebViewClient'),\n",
       " ('com.fsck.k9.view', 'com.fsck.k9.view.MessageHeader'),\n",
       " ('com.fsck.k9.view', 'com.fsck.k9.view.MessageWebView'),\n",
       " ('com.fsck.k9.view', 'com.fsck.k9.view.NonLockingScrollView'),\n",
       " ('com.fsck.k9.view', 'com.fsck.k9.view.RecipientSelectView'),\n",
       " ('com.fsck.k9.view', 'com.fsck.k9.view.ViewSwitcher'),\n",
       " ('com.fsck.k9.view.K9WebViewClient', 'com.fsck.k9.view'),\n",
       " ('com.fsck.k9.view.K9WebViewClient', 'com.fsck.k9.view.K9WebViewClient'),\n",
       " ('com.fsck.k9.view.NonLockingScrollView', 'com.fsck.k9.view'),\n",
       " ('com.fsck.k9.view.NonLockingScrollView',\n",
       "  'com.fsck.k9.view.NonLockingScrollView'),\n",
       " ('com.fsck.k9.view.RecipientSelectView', 'com.fsck.k9.view'),\n",
       " ('com.fsck.k9.view.RecipientSelectView',\n",
       "  'com.fsck.k9.view.RecipientSelectView'),\n",
       " ('com.fsck.k9.widget.list', 'com.fsck.k9'),\n",
       " ('com.fsck.k9.widget.list', 'com.fsck.k9.widget.list'),\n",
       " ('com.fsck.k9.widget.list',\n",
       "  'com.fsck.k9.widget.list.MessageListRemoteViewFactory')}"
      ]
     },
     "execution_count": 15,
     "metadata": {},
     "output_type": "execute_result"
    }
   ],
   "source": [
    "# example: lift calls\n",
    "\n",
    "lifted_calls = transitive_closure(\n",
    "\ttransitive_closure(\n",
    "\t\tabstract_rels['contains'], \n",
    "\t\tabstract_rels['calls']), \n",
    "\tflip_tuples(abstract_rels['contains']))\n",
    "lifted_calls"
   ]
  },
  {
   "cell_type": "code",
   "execution_count": 16,
   "metadata": {},
   "outputs": [],
   "source": [
    "def find_nodes(nodes, id):\n",
    "\treturn [(id_,label) for (id_,label) in nodes if id_ == id]"
   ]
  },
  {
   "cell_type": "markdown",
   "metadata": {},
   "source": [
    "## networkx Stuff"
   ]
  },
  {
   "cell_type": "code",
   "execution_count": null,
   "metadata": {},
   "outputs": [],
   "source": [
    "import networkx as nx\n",
    "\n",
    "g = nx.MultiDiGraph()\n",
    "\n",
    "for (id, label), properties in nodes.items():\n",
    "    g.add_node(id, label=label, **properties)\n",
    "\n",
    "for (source, target, typ), properties in edges.items():\n",
    "    g.add_edge(source, target, type=typ, **properties)\n",
    "\n",
    "g.number_of_nodes(), g.number_of_edges()"
   ]
  },
  {
   "cell_type": "code",
   "execution_count": null,
   "metadata": {},
   "outputs": [],
   "source": [
    "for node, nbrsdict in list(g.adj.items())[:10]:\n",
    "    print((node, nbrsdict))\n",
    "    "
   ]
  },
  {
   "cell_type": "code",
   "execution_count": null,
   "metadata": {},
   "outputs": [],
   "source": [
    "method_sources = {id:properties['sourceText'] for (id,label),properties in nodes.items() if label in ['Operation', 'Constructor']}\n",
    "method_sources"
   ]
  },
  {
   "cell_type": "markdown",
   "metadata": {},
   "source": [
    "## LLM Stuff"
   ]
  },
  {
   "cell_type": "code",
   "execution_count": null,
   "metadata": {},
   "outputs": [],
   "source": [
    "from txtai.pipeline import LLM\n",
    "\n",
    "# llm = LLM(\"Open-Orca/Mistral-7B-OpenOrca\")\n",
    "llm = LLM(\"microsoft/phi-2\", trust_remote_code='True')\n",
    "# llm = LLM(\"lmsys/vicuna-7b-v1.5\")\n",
    "for method_name, method_src in random.sample(method_sources.items(), 10):\n",
    "\tllm(\n",
    "\tf\"\"\"\n",
    "\tAnswer the following question using the provided context.\n",
    "\n",
    "\tQuestion:\n",
    "\tWhat does this Java method do?\n",
    "\n",
    "\tContext:\n",
    "\t{method_src}\n",
    "\t\"\"\"\n",
    "\t)"
   ]
  }
 ],
 "metadata": {
  "kernelspec": {
   "display_name": ".venv",
   "language": "python",
   "name": "python3"
  },
  "language_info": {
   "codemirror_mode": {
    "name": "ipython",
    "version": 3
   },
   "file_extension": ".py",
   "mimetype": "text/x-python",
   "name": "python",
   "nbconvert_exporter": "python",
   "pygments_lexer": "ipython3",
   "version": "3.8.18"
  }
 },
 "nbformat": 4,
 "nbformat_minor": 2
}
